{
 "cells": [
  {
   "cell_type": "markdown",
   "metadata": {},
   "source": [
    "# Get DATA"
   ]
  },
  {
   "cell_type": "code",
   "execution_count": 1,
   "metadata": {},
   "outputs": [],
   "source": [
    "import pandas as pd"
   ]
  },
  {
   "cell_type": "code",
   "execution_count": 2,
   "metadata": {},
   "outputs": [],
   "source": [
    "data = pd.DataFrame()"
   ]
  },
  {
   "cell_type": "code",
   "execution_count": 3,
   "metadata": {},
   "outputs": [],
   "source": [
    "import json\n",
    "with open('first_run.json', 'r') as fp:\n",
    "    json_data = json.load(fp)"
   ]
  },
  {
   "cell_type": "code",
   "execution_count": 4,
   "metadata": {},
   "outputs": [],
   "source": [
    "for index, job in enumerate(json_data['items']):\n",
    "    job['key'] = str(job['key'])\n",
    "    data = data.append(pd.DataFrame(job, index=[index]))"
   ]
  },
  {
   "cell_type": "code",
   "execution_count": 5,
   "metadata": {},
   "outputs": [],
   "source": [
    "data.drop_duplicates(subset='url',keep='first', inplace=True)"
   ]
  },
  {
   "cell_type": "code",
   "execution_count": 6,
   "metadata": {},
   "outputs": [
    {
     "data": {
      "text/html": [
       "<div>\n",
       "<style scoped>\n",
       "    .dataframe tbody tr th:only-of-type {\n",
       "        vertical-align: middle;\n",
       "    }\n",
       "\n",
       "    .dataframe tbody tr th {\n",
       "        vertical-align: top;\n",
       "    }\n",
       "\n",
       "    .dataframe thead th {\n",
       "        text-align: right;\n",
       "    }\n",
       "</style>\n",
       "<table border=\"1\" class=\"dataframe\">\n",
       "  <thead>\n",
       "    <tr style=\"text-align: right;\">\n",
       "      <th></th>\n",
       "      <th>job_name</th>\n",
       "      <th>salary</th>\n",
       "      <th>company</th>\n",
       "      <th>url</th>\n",
       "      <th>publish_time</th>\n",
       "      <th>key</th>\n",
       "      <th>detail</th>\n",
       "    </tr>\n",
       "  </thead>\n",
       "  <tbody>\n",
       "    <tr>\n",
       "      <th>0</th>\n",
       "      <td>python开发</td>\n",
       "      <td>12k-24k</td>\n",
       "      <td>博乐科技</td>\n",
       "      <td>https://www.lagou.com/jobs/6707116.html?show=7...</td>\n",
       "      <td>21:09发布</td>\n",
       "      <td>['后端']</td>\n",
       "      <td>位诱惑：\\n13薪，周末双休，项目奖金，福利好\\n职位描述：\\n岗位职责：\\n1、负责运营后...</td>\n",
       "    </tr>\n",
       "    <tr>\n",
       "      <th>1</th>\n",
       "      <td>Python工程师</td>\n",
       "      <td>20k-40k</td>\n",
       "      <td>贝壳</td>\n",
       "      <td>https://www.lagou.com/jobs/6835354.html?show=7...</td>\n",
       "      <td>11:40发布</td>\n",
       "      <td>['C++', 'C', 'Golang', 'Python']</td>\n",
       "      <td>岗位职责：\\n1，日常产品需求的开发和产品维护（主要是将算法组产出的实验结果转化为线上服务）...</td>\n",
       "    </tr>\n",
       "    <tr>\n",
       "      <th>2</th>\n",
       "      <td>python工程师</td>\n",
       "      <td>14k-28k</td>\n",
       "      <td>生仝智能</td>\n",
       "      <td>https://www.lagou.com/jobs/5764968.html?show=7...</td>\n",
       "      <td>20:34发布</td>\n",
       "      <td>['医疗健康', '云计算', '后端', 'docker', '服务器端']</td>\n",
       "      <td>工作职责：\\n1、负责数据、应用平台的前后端开发和性能调优；\\n2、负责应用平台数据处理程序...</td>\n",
       "    </tr>\n",
       "    <tr>\n",
       "      <th>3</th>\n",
       "      <td>Python开发工程师</td>\n",
       "      <td>20k-40k</td>\n",
       "      <td>清交科技</td>\n",
       "      <td>https://www.lagou.com/jobs/6403486.html?show=7...</td>\n",
       "      <td>16:36发布</td>\n",
       "      <td>['企业服务', '大数据', 'Python', 'Javascript', 'JS', ...</td>\n",
       "      <td>职责描述：\\n1. 负责构建数据安全融合系统和产品；\\n2. 负责与前端开发人员合作，完成W...</td>\n",
       "    </tr>\n",
       "    <tr>\n",
       "      <th>4</th>\n",
       "      <td>Python工程师</td>\n",
       "      <td>12k-24k</td>\n",
       "      <td>深度好奇</td>\n",
       "      <td>https://www.lagou.com/jobs/6929363.html?show=7...</td>\n",
       "      <td>14:37发布</td>\n",
       "      <td>['Python', 'C++', 'Linux/Unix', '机器学习']</td>\n",
       "      <td>工作职责:\\n1. 负责各个项目的开发、部署、维护工作（主要编程语言为Python）\\n2....</td>\n",
       "    </tr>\n",
       "    <tr>\n",
       "      <th>...</th>\n",
       "      <td>...</td>\n",
       "      <td>...</td>\n",
       "      <td>...</td>\n",
       "      <td>...</td>\n",
       "      <td>...</td>\n",
       "      <td>...</td>\n",
       "      <td>...</td>\n",
       "    </tr>\n",
       "    <tr>\n",
       "      <th>295</th>\n",
       "      <td>少儿编程老师-C++.PYTHON.JAVA</td>\n",
       "      <td>10k-15k</td>\n",
       "      <td>达内集团</td>\n",
       "      <td>https://www.lagou.com/jobs/6589038.html?show=7...</td>\n",
       "      <td>3天前发布</td>\n",
       "      <td>['教育', 'C++', '算法']</td>\n",
       "      <td>【岗位职责】：\\n1、教授少儿编程课程；\\n2、积极与学生和家长沟通交流，完成课程目标；\\n...</td>\n",
       "    </tr>\n",
       "    <tr>\n",
       "      <th>296</th>\n",
       "      <td>少儿编程老师-Python方向（MJ61）</td>\n",
       "      <td>10k-15k</td>\n",
       "      <td>达内集团</td>\n",
       "      <td>https://www.lagou.com/jobs/6913718.html?show=7...</td>\n",
       "      <td>3天前发布</td>\n",
       "      <td>['教育']</td>\n",
       "      <td>岗位职责： \\n1. 教授青少年python/web/Java前端编程类课程（任意一种） \\...</td>\n",
       "    </tr>\n",
       "    <tr>\n",
       "      <th>297</th>\n",
       "      <td>少儿编程讲师-Python/Web/Java</td>\n",
       "      <td>8k-13k</td>\n",
       "      <td>达内集团</td>\n",
       "      <td>https://www.lagou.com/jobs/7010809.html?show=7...</td>\n",
       "      <td>3天前发布</td>\n",
       "      <td>['教育', 'Javascript', 'JS', 'Python']</td>\n",
       "      <td>岗位职责：\\n1. 教授青少年python/web/C++前端编程类课程\\n2. 负责指导学...</td>\n",
       "    </tr>\n",
       "    <tr>\n",
       "      <th>298</th>\n",
       "      <td>少儿编程讲师（web/python/java）</td>\n",
       "      <td>8k-13k</td>\n",
       "      <td>达内集团</td>\n",
       "      <td>https://www.lagou.com/jobs/6977079.html?show=7...</td>\n",
       "      <td>3天前发布</td>\n",
       "      <td>['教育']</td>\n",
       "      <td>岗位职责：\\n1. 教授青少年scratch/python/web/C++编程类课程\\n2....</td>\n",
       "    </tr>\n",
       "    <tr>\n",
       "      <th>299</th>\n",
       "      <td>python开发工程师（2020届校招）</td>\n",
       "      <td>12k-24k</td>\n",
       "      <td>因诺</td>\n",
       "      <td>https://www.lagou.com/jobs/6386038.html?show=7...</td>\n",
       "      <td>2天前发布</td>\n",
       "      <td>['Linux/Unix', 'Python', 'JS', '自动化']</td>\n",
       "      <td>【工作职责】\\n1、负责量化交易系统的前端设计和开发工作\\n2、负责我司相关运维平台设计和开...</td>\n",
       "    </tr>\n",
       "  </tbody>\n",
       "</table>\n",
       "<p>300 rows × 7 columns</p>\n",
       "</div>"
      ],
      "text/plain": [
       "                    job_name   salary company  \\\n",
       "0                   python开发  12k-24k    博乐科技   \n",
       "1                  Python工程师  20k-40k      贝壳   \n",
       "2                  python工程师  14k-28k    生仝智能   \n",
       "3                Python开发工程师  20k-40k    清交科技   \n",
       "4                  Python工程师  12k-24k    深度好奇   \n",
       "..                       ...      ...     ...   \n",
       "295   少儿编程老师-C++.PYTHON.JAVA  10k-15k    达内集团   \n",
       "296    少儿编程老师-Python方向（MJ61）  10k-15k    达内集团   \n",
       "297   少儿编程讲师-Python/Web/Java   8k-13k    达内集团   \n",
       "298  少儿编程讲师（web/python/java）   8k-13k    达内集团   \n",
       "299     python开发工程师（2020届校招）  12k-24k      因诺   \n",
       "\n",
       "                                                   url publish_time  \\\n",
       "0    https://www.lagou.com/jobs/6707116.html?show=7...      21:09发布   \n",
       "1    https://www.lagou.com/jobs/6835354.html?show=7...      11:40发布   \n",
       "2    https://www.lagou.com/jobs/5764968.html?show=7...      20:34发布   \n",
       "3    https://www.lagou.com/jobs/6403486.html?show=7...      16:36发布   \n",
       "4    https://www.lagou.com/jobs/6929363.html?show=7...      14:37发布   \n",
       "..                                                 ...          ...   \n",
       "295  https://www.lagou.com/jobs/6589038.html?show=7...        3天前发布   \n",
       "296  https://www.lagou.com/jobs/6913718.html?show=7...        3天前发布   \n",
       "297  https://www.lagou.com/jobs/7010809.html?show=7...        3天前发布   \n",
       "298  https://www.lagou.com/jobs/6977079.html?show=7...        3天前发布   \n",
       "299  https://www.lagou.com/jobs/6386038.html?show=7...        2天前发布   \n",
       "\n",
       "                                                   key  \\\n",
       "0                                               ['后端']   \n",
       "1                     ['C++', 'C', 'Golang', 'Python']   \n",
       "2              ['医疗健康', '云计算', '后端', 'docker', '服务器端']   \n",
       "3    ['企业服务', '大数据', 'Python', 'Javascript', 'JS', ...   \n",
       "4              ['Python', 'C++', 'Linux/Unix', '机器学习']   \n",
       "..                                                 ...   \n",
       "295                                ['教育', 'C++', '算法']   \n",
       "296                                             ['教育']   \n",
       "297               ['教育', 'Javascript', 'JS', 'Python']   \n",
       "298                                             ['教育']   \n",
       "299              ['Linux/Unix', 'Python', 'JS', '自动化']   \n",
       "\n",
       "                                                detail  \n",
       "0    位诱惑：\\n13薪，周末双休，项目奖金，福利好\\n职位描述：\\n岗位职责：\\n1、负责运营后...  \n",
       "1    岗位职责：\\n1，日常产品需求的开发和产品维护（主要是将算法组产出的实验结果转化为线上服务）...  \n",
       "2    工作职责：\\n1、负责数据、应用平台的前后端开发和性能调优；\\n2、负责应用平台数据处理程序...  \n",
       "3    职责描述：\\n1. 负责构建数据安全融合系统和产品；\\n2. 负责与前端开发人员合作，完成W...  \n",
       "4    工作职责:\\n1. 负责各个项目的开发、部署、维护工作（主要编程语言为Python）\\n2....  \n",
       "..                                                 ...  \n",
       "295  【岗位职责】：\\n1、教授少儿编程课程；\\n2、积极与学生和家长沟通交流，完成课程目标；\\n...  \n",
       "296  岗位职责： \\n1. 教授青少年python/web/Java前端编程类课程（任意一种） \\...  \n",
       "297  岗位职责：\\n1. 教授青少年python/web/C++前端编程类课程\\n2. 负责指导学...  \n",
       "298  岗位职责：\\n1. 教授青少年scratch/python/web/C++编程类课程\\n2....  \n",
       "299  【工作职责】\\n1、负责量化交易系统的前端设计和开发工作\\n2、负责我司相关运维平台设计和开...  \n",
       "\n",
       "[300 rows x 7 columns]"
      ]
     },
     "execution_count": 6,
     "metadata": {},
     "output_type": "execute_result"
    }
   ],
   "source": [
    "data"
   ]
  },
  {
   "cell_type": "markdown",
   "metadata": {},
   "source": [
    "# Extract work keyword"
   ]
  },
  {
   "cell_type": "code",
   "execution_count": 143,
   "metadata": {},
   "outputs": [],
   "source": [
    "data['detail1'] = data['detail'].map(lambda x: x.replace('【岗位职责】', '岗位职责'))\n",
    "data['detail1'] = data['detail1'].map(lambda x: x.replace('职位描述', '岗位职责'))\n",
    "data['detail1'] = data['detail1'].map(lambda x: x.replace('职位描述', '岗位职责'))\n",
    "data['detail1'] = data['detail1'].map(lambda x: x.replace('职位描述', '岗位职责'))\n",
    "data['detail1'] = data['detail1'].map(lambda x: x.replace('能力要求', '岗位要求'))\n",
    "data['detail1'] = data['detail1'].map(lambda x: x.replace('任职资格', '岗位要求'))\n",
    "data['detail1'] = data['detail1'].map(lambda x: x.replace('【任职要求】', '岗位要求'))\n",
    "data['detail1'] = data['detail1'].map(lambda x: x.replace('任职要求', '岗位要求'))\n",
    "data['detail1'] = data['detail1'].map(lambda x: x.replace('任职条件', '岗位要求'))\n",
    "data['detail1'] = data['detail1'].map(lambda x: x.replace('\\n\\n', '\\n'))"
   ]
  },
  {
   "cell_type": "code",
   "execution_count": 144,
   "metadata": {},
   "outputs": [],
   "source": [
    "data['detail1'] = data['detail1'].map(lambda x: x.split('\\n\\n'))\n",
    "#'\\n\\n'有两个的，是数美的，后面部分是他公司介绍\n",
    "data['detail1'] = data['detail1'].map(lambda x: x[0])\n"
   ]
  },
  {
   "cell_type": "code",
   "execution_count": 9,
   "metadata": {},
   "outputs": [
    {
     "name": "stdout",
     "output_type": "stream",
     "text": [
      "Looking in indexes: https://pypi.tuna.tsinghua.edu.cn/simple\n",
      "Requirement already satisfied: jieba in /myrepo/Private/Crawler/venv/lib/python3.7/site-packages (0.42.1)\n",
      "\u001b[33mYou are using pip version 10.0.1, however version 20.1 is available.\n",
      "You should consider upgrading via the 'pip install --upgrade pip' command.\u001b[0m\n"
     ]
    }
   ],
   "source": [
    "!pip3 install jieba"
   ]
  },
  {
   "cell_type": "markdown",
   "metadata": {},
   "source": [
    "# Cut word"
   ]
  },
  {
   "cell_type": "code",
   "execution_count": 12,
   "metadata": {},
   "outputs": [
    {
     "ename": "ModuleNotFoundError",
     "evalue": "No module named 'jieba'",
     "output_type": "error",
     "traceback": [
      "\u001b[0;31m---------------------------------------------------------------------------\u001b[0m",
      "\u001b[0;31mModuleNotFoundError\u001b[0m                       Traceback (most recent call last)",
      "\u001b[0;32m<ipython-input-12-71874e60dc26>\u001b[0m in \u001b[0;36m<module>\u001b[0;34m\u001b[0m\n\u001b[0;32m----> 1\u001b[0;31m \u001b[0;32mimport\u001b[0m \u001b[0mjieba\u001b[0m\u001b[0;34m\u001b[0m\u001b[0;34m\u001b[0m\u001b[0m\n\u001b[0m",
      "\u001b[0;31mModuleNotFoundError\u001b[0m: No module named 'jieba'"
     ]
    }
   ],
   "source": [
    "import jieba"
   ]
  },
  {
   "cell_type": "code",
   "execution_count": 145,
   "metadata": {},
   "outputs": [
    {
     "name": "stdout",
     "output_type": "stream",
     "text": [
      "工作职责:\n",
      "1. 负责各个项目的开发、部署、维护工作（主要编程语言为Python）\n",
      "2. 与研究员和其他工程师共同探讨技术方案并参与产品设计\n",
      "3. 持续改进现有代码以应对多样化需求\n",
      "4. 维护公司内部良好的开发、实验、标注平台和环境\n",
      "职位要求：\n",
      "1. 熟悉Python语言，熟练使用Python常用模块，熟悉C/C++者优先； \n",
      "2. 熟悉Linux系统，有shell编程基础，熟悉容器技术（Docker）者优先；\n",
      "3. 熟练使用TensorFlow等深度学习框架者优先；\n",
      "4. 熟悉django/tornado/Flask等Python框架，熟悉爬虫，有Web开发项目经验者优先；\n",
      "5. 了解常见机器学习算法（如逻辑回归、SVM、神经网络、决策树、贝叶斯等）、深度学习、NLP者优先；\n",
      "6. 动手能力强，可以快速实现想法\n",
      "职位职责：\n",
      "1、负责今日头条沟通系统研发，包括但不限于即时通讯(IM)工具；\n",
      "2、负责效率工具的后台开发工作，具体包括需求分析、文档撰写、设计编码、测试运维、效果追踪等工作；\n",
      "3、负责高质量的设计和编码；承担重点、难点的技术攻坚；\n",
      "4、参与产品讨论和开发实现。\n",
      "5、主要语言为Python/Golang。\n",
      "职位要求：\n",
      "1、良好的设计和编码品味，热爱写代码；\n",
      "2、较好的产品意识，愿意将产品效果做为工作最重要的驱动因素；\n",
      "3、掌握WEB后端开发技术: 协议、架构、存储、缓存、安全等；\n",
      "4、积极乐观，认真负责，乐于协作。\n",
      "职位职责：\n",
      "1、负责高质量python系统的开发，包含运营系统、审核系统等平台开发；\n",
      "2、为业务开发提供方案支持和实施，持续改善已有服务。\n",
      "职位要求：\n",
      "1、本科及以上学历，计算机相关专业；\n",
      "2、具有良好的数据结构和算法基础，具备扎实的编程能力；\n",
      "3、熟悉python, django, mysql，memcache，redis，kafka消息队列等常用WEB组件；\n",
      "4、熟悉前端相关技术，vue、html、javascript、css等；\n",
      "5、熟悉大数据相关工具hadoop、hive、es者优先；\n",
      "6、独立思考，有产品意识，能提出系统改善和产品优化者优先。\n",
      "工作职责:\n",
      "1. 负责Python后端服务开发，解决业务逻辑和数据产品相关业务;\n",
      "2. 负责算法工程化，对接外部应用和数据源;\n",
      "3. 负责搭建和维护后台服务;\n",
      "4. 负责服务API开发。\n",
      "职责：\n",
      "负责相关系统的架构与设计；\n",
      "负责服务器各个系统的开发与维护；\n",
      "参与新技术的研究与技术路线的确定。\n",
      "要求：\n",
      "算法基础扎实，熟悉常用数据结构和算法;\n",
      "熟悉Linux开发环境，精通Python;\n",
      "熟悉Gevent和Tornado至少一种高并发网络框架;\n",
      "熟悉HTTP、TCP/IP协议，能开发原生的socket程序;\n",
      "熟悉Django、Flask框架开发;\n",
      "熟悉Mysql或postgresql等关系型数据库;\n",
      "熟悉redis、mongodb、等nosql数据库;\n",
      "熟悉docker使用;\n"
     ]
    },
    {
     "data": {
      "text/plain": [
       "4     None\n",
       "6     None\n",
       "8     None\n",
       "11    None\n",
       "12    None\n",
       "Name: detail1, dtype: object"
      ]
     },
     "execution_count": 145,
     "metadata": {},
     "output_type": "execute_result"
    }
   ],
   "source": [
    "data[~data.detail1.str.contains('岗位要求')]['detail1'].head(5).map(print)"
   ]
  },
  {
   "cell_type": "code",
   "execution_count": 134,
   "metadata": {
    "scrolled": false
   },
   "outputs": [],
   "source": [
    "data['detail2'] = data['detail1'].map(lambda x: x.split('岗位要求')[0] == '')"
   ]
  },
  {
   "cell_type": "code",
   "execution_count": 98,
   "metadata": {},
   "outputs": [
    {
     "data": {
      "text/plain": [
       "'岗位职责：\\n1、负责设计和开发爬虫系统，可以实现高并发、分布式多平台抓取和分析\\n2、负责设计爬虫策略和防屏蔽规则，提升网络抓取效率和质量\\n3、负责网页信息抽取、数据清洗等研发和优化工作\\n岗位要求：\\n1、至少熟悉C、C++或者Python等编程语言中的一种\\n2、熟悉Linux平台开发，并且熟悉多线程模型编程、网络编程，熟悉HTTP、TCP/UDP协议\\n3、熟悉信息抓取和整合技术，从结构化和非结构化数据中获取信息，掌握正则表达式\\n4、有较强的工作责任心和良好的沟通协同能力，有钻研精神，对技术、大数据充满热情，有团队合作精神'"
      ]
     },
     "execution_count": 98,
     "metadata": {},
     "output_type": "execute_result"
    }
   ],
   "source": [
    "s = data['detail1'].iloc[2]\n",
    "s"
   ]
  },
  {
   "cell_type": "code",
   "execution_count": 108,
   "metadata": {},
   "outputs": [
    {
     "data": {
      "text/plain": [
       "['岗位职责：',\n",
       " '1、负责设计和开发爬虫系统，可以实现高并发、分布式多平台抓取和分析',\n",
       " '2、负责设计爬虫策略和防屏蔽规则，提升网络抓取效率和质量',\n",
       " '3、负责网页信息抽取、数据清洗等研发和优化工作',\n",
       " '岗位要求：',\n",
       " '1、至少熟悉C、C++或者Python等编程语言中的一种',\n",
       " '2、熟悉Linux平台开发，并且熟悉多线程模型编程、网络编程，熟悉HTTP、TCP/UDP协议',\n",
       " '3、熟悉信息抓取和整合技术，从结构化和非结构化数据中获取信息，掌握正则表达式',\n",
       " '4、有较强的工作责任心和良好的沟通协同能力，有钻研精神，对技术、大数据充满热情，有团队合作精神']"
      ]
     },
     "execution_count": 108,
     "metadata": {},
     "output_type": "execute_result"
    }
   ],
   "source": [
    "s.split('\\n')."
   ]
  },
  {
   "cell_type": "code",
   "execution_count": 99,
   "metadata": {},
   "outputs": [],
   "source": [
    "import re"
   ]
  },
  {
   "cell_type": "code",
   "execution_count": 105,
   "metadata": {
    "scrolled": true
   },
   "outputs": [
    {
     "ename": "error",
     "evalue": "multiple repeat at position 6",
     "output_type": "error",
     "traceback": [
      "\u001b[0;31m---------------------------------------------------------------------------\u001b[0m",
      "\u001b[0;31merror\u001b[0m                                     Traceback (most recent call last)",
      "\u001b[0;32m<ipython-input-105-8f6fbfbf405c>\u001b[0m in \u001b[0;36m<module>\u001b[0;34m\u001b[0m\n\u001b[0;32m----> 1\u001b[0;31m \u001b[0mre\u001b[0m\u001b[0;34m.\u001b[0m\u001b[0msearch\u001b[0m\u001b[0;34m(\u001b[0m\u001b[0;34m'岗位职责:?*+'\u001b[0m\u001b[0;34m,\u001b[0m\u001b[0ms\u001b[0m\u001b[0;34m)\u001b[0m\u001b[0;34m.\u001b[0m\u001b[0mgroup\u001b[0m\u001b[0;34m(\u001b[0m\u001b[0;34m)\u001b[0m\u001b[0;34m\u001b[0m\u001b[0;34m\u001b[0m\u001b[0m\n\u001b[0m",
      "\u001b[0;32m/usr/lib/python3.7/re.py\u001b[0m in \u001b[0;36msearch\u001b[0;34m(pattern, string, flags)\u001b[0m\n\u001b[1;32m    181\u001b[0m     \"\"\"Scan through string looking for a match to the pattern, returning\n\u001b[1;32m    182\u001b[0m     a Match object, or None if no match was found.\"\"\"\n\u001b[0;32m--> 183\u001b[0;31m     \u001b[0;32mreturn\u001b[0m \u001b[0m_compile\u001b[0m\u001b[0;34m(\u001b[0m\u001b[0mpattern\u001b[0m\u001b[0;34m,\u001b[0m \u001b[0mflags\u001b[0m\u001b[0;34m)\u001b[0m\u001b[0;34m.\u001b[0m\u001b[0msearch\u001b[0m\u001b[0;34m(\u001b[0m\u001b[0mstring\u001b[0m\u001b[0;34m)\u001b[0m\u001b[0;34m\u001b[0m\u001b[0;34m\u001b[0m\u001b[0m\n\u001b[0m\u001b[1;32m    184\u001b[0m \u001b[0;34m\u001b[0m\u001b[0m\n\u001b[1;32m    185\u001b[0m \u001b[0;32mdef\u001b[0m \u001b[0msub\u001b[0m\u001b[0;34m(\u001b[0m\u001b[0mpattern\u001b[0m\u001b[0;34m,\u001b[0m \u001b[0mrepl\u001b[0m\u001b[0;34m,\u001b[0m \u001b[0mstring\u001b[0m\u001b[0;34m,\u001b[0m \u001b[0mcount\u001b[0m\u001b[0;34m=\u001b[0m\u001b[0;36m0\u001b[0m\u001b[0;34m,\u001b[0m \u001b[0mflags\u001b[0m\u001b[0;34m=\u001b[0m\u001b[0;36m0\u001b[0m\u001b[0;34m)\u001b[0m\u001b[0;34m:\u001b[0m\u001b[0;34m\u001b[0m\u001b[0;34m\u001b[0m\u001b[0m\n",
      "\u001b[0;32m/usr/lib/python3.7/re.py\u001b[0m in \u001b[0;36m_compile\u001b[0;34m(pattern, flags)\u001b[0m\n\u001b[1;32m    284\u001b[0m     \u001b[0;32mif\u001b[0m \u001b[0;32mnot\u001b[0m \u001b[0msre_compile\u001b[0m\u001b[0;34m.\u001b[0m\u001b[0misstring\u001b[0m\u001b[0;34m(\u001b[0m\u001b[0mpattern\u001b[0m\u001b[0;34m)\u001b[0m\u001b[0;34m:\u001b[0m\u001b[0;34m\u001b[0m\u001b[0;34m\u001b[0m\u001b[0m\n\u001b[1;32m    285\u001b[0m         \u001b[0;32mraise\u001b[0m \u001b[0mTypeError\u001b[0m\u001b[0;34m(\u001b[0m\u001b[0;34m\"first argument must be string or compiled pattern\"\u001b[0m\u001b[0;34m)\u001b[0m\u001b[0;34m\u001b[0m\u001b[0;34m\u001b[0m\u001b[0m\n\u001b[0;32m--> 286\u001b[0;31m     \u001b[0mp\u001b[0m \u001b[0;34m=\u001b[0m \u001b[0msre_compile\u001b[0m\u001b[0;34m.\u001b[0m\u001b[0mcompile\u001b[0m\u001b[0;34m(\u001b[0m\u001b[0mpattern\u001b[0m\u001b[0;34m,\u001b[0m \u001b[0mflags\u001b[0m\u001b[0;34m)\u001b[0m\u001b[0;34m\u001b[0m\u001b[0;34m\u001b[0m\u001b[0m\n\u001b[0m\u001b[1;32m    287\u001b[0m     \u001b[0;32mif\u001b[0m \u001b[0;32mnot\u001b[0m \u001b[0;34m(\u001b[0m\u001b[0mflags\u001b[0m \u001b[0;34m&\u001b[0m \u001b[0mDEBUG\u001b[0m\u001b[0;34m)\u001b[0m\u001b[0;34m:\u001b[0m\u001b[0;34m\u001b[0m\u001b[0;34m\u001b[0m\u001b[0m\n\u001b[1;32m    288\u001b[0m         \u001b[0;32mif\u001b[0m \u001b[0mlen\u001b[0m\u001b[0;34m(\u001b[0m\u001b[0m_cache\u001b[0m\u001b[0;34m)\u001b[0m \u001b[0;34m>=\u001b[0m \u001b[0m_MAXCACHE\u001b[0m\u001b[0;34m:\u001b[0m\u001b[0;34m\u001b[0m\u001b[0;34m\u001b[0m\u001b[0m\n",
      "\u001b[0;32m/usr/lib/python3.7/sre_compile.py\u001b[0m in \u001b[0;36mcompile\u001b[0;34m(p, flags)\u001b[0m\n\u001b[1;32m    762\u001b[0m     \u001b[0;32mif\u001b[0m \u001b[0misstring\u001b[0m\u001b[0;34m(\u001b[0m\u001b[0mp\u001b[0m\u001b[0;34m)\u001b[0m\u001b[0;34m:\u001b[0m\u001b[0;34m\u001b[0m\u001b[0;34m\u001b[0m\u001b[0m\n\u001b[1;32m    763\u001b[0m         \u001b[0mpattern\u001b[0m \u001b[0;34m=\u001b[0m \u001b[0mp\u001b[0m\u001b[0;34m\u001b[0m\u001b[0;34m\u001b[0m\u001b[0m\n\u001b[0;32m--> 764\u001b[0;31m         \u001b[0mp\u001b[0m \u001b[0;34m=\u001b[0m \u001b[0msre_parse\u001b[0m\u001b[0;34m.\u001b[0m\u001b[0mparse\u001b[0m\u001b[0;34m(\u001b[0m\u001b[0mp\u001b[0m\u001b[0;34m,\u001b[0m \u001b[0mflags\u001b[0m\u001b[0;34m)\u001b[0m\u001b[0;34m\u001b[0m\u001b[0;34m\u001b[0m\u001b[0m\n\u001b[0m\u001b[1;32m    765\u001b[0m     \u001b[0;32melse\u001b[0m\u001b[0;34m:\u001b[0m\u001b[0;34m\u001b[0m\u001b[0;34m\u001b[0m\u001b[0m\n\u001b[1;32m    766\u001b[0m         \u001b[0mpattern\u001b[0m \u001b[0;34m=\u001b[0m \u001b[0;32mNone\u001b[0m\u001b[0;34m\u001b[0m\u001b[0;34m\u001b[0m\u001b[0m\n",
      "\u001b[0;32m/usr/lib/python3.7/sre_parse.py\u001b[0m in \u001b[0;36mparse\u001b[0;34m(str, flags, pattern)\u001b[0m\n\u001b[1;32m    922\u001b[0m \u001b[0;34m\u001b[0m\u001b[0m\n\u001b[1;32m    923\u001b[0m     \u001b[0;32mtry\u001b[0m\u001b[0;34m:\u001b[0m\u001b[0;34m\u001b[0m\u001b[0;34m\u001b[0m\u001b[0m\n\u001b[0;32m--> 924\u001b[0;31m         \u001b[0mp\u001b[0m \u001b[0;34m=\u001b[0m \u001b[0m_parse_sub\u001b[0m\u001b[0;34m(\u001b[0m\u001b[0msource\u001b[0m\u001b[0;34m,\u001b[0m \u001b[0mpattern\u001b[0m\u001b[0;34m,\u001b[0m \u001b[0mflags\u001b[0m \u001b[0;34m&\u001b[0m \u001b[0mSRE_FLAG_VERBOSE\u001b[0m\u001b[0;34m,\u001b[0m \u001b[0;36m0\u001b[0m\u001b[0;34m)\u001b[0m\u001b[0;34m\u001b[0m\u001b[0;34m\u001b[0m\u001b[0m\n\u001b[0m\u001b[1;32m    925\u001b[0m     \u001b[0;32mexcept\u001b[0m \u001b[0mVerbose\u001b[0m\u001b[0;34m:\u001b[0m\u001b[0;34m\u001b[0m\u001b[0;34m\u001b[0m\u001b[0m\n\u001b[1;32m    926\u001b[0m         \u001b[0;31m# the VERBOSE flag was switched on inside the pattern.  to be\u001b[0m\u001b[0;34m\u001b[0m\u001b[0;34m\u001b[0m\u001b[0;34m\u001b[0m\u001b[0m\n",
      "\u001b[0;32m/usr/lib/python3.7/sre_parse.py\u001b[0m in \u001b[0;36m_parse_sub\u001b[0;34m(source, state, verbose, nested)\u001b[0m\n\u001b[1;32m    418\u001b[0m     \u001b[0;32mwhile\u001b[0m \u001b[0;32mTrue\u001b[0m\u001b[0;34m:\u001b[0m\u001b[0;34m\u001b[0m\u001b[0;34m\u001b[0m\u001b[0m\n\u001b[1;32m    419\u001b[0m         itemsappend(_parse(source, state, verbose, nested + 1,\n\u001b[0;32m--> 420\u001b[0;31m                            not nested and not items))\n\u001b[0m\u001b[1;32m    421\u001b[0m         \u001b[0;32mif\u001b[0m \u001b[0;32mnot\u001b[0m \u001b[0msourcematch\u001b[0m\u001b[0;34m(\u001b[0m\u001b[0;34m\"|\"\u001b[0m\u001b[0;34m)\u001b[0m\u001b[0;34m:\u001b[0m\u001b[0;34m\u001b[0m\u001b[0;34m\u001b[0m\u001b[0m\n\u001b[1;32m    422\u001b[0m             \u001b[0;32mbreak\u001b[0m\u001b[0;34m\u001b[0m\u001b[0;34m\u001b[0m\u001b[0m\n",
      "\u001b[0;32m/usr/lib/python3.7/sre_parse.py\u001b[0m in \u001b[0;36m_parse\u001b[0;34m(source, state, verbose, nested, first)\u001b[0m\n\u001b[1;32m    646\u001b[0m             \u001b[0;32mif\u001b[0m \u001b[0mitem\u001b[0m\u001b[0;34m[\u001b[0m\u001b[0;36m0\u001b[0m\u001b[0;34m]\u001b[0m\u001b[0;34m[\u001b[0m\u001b[0;36m0\u001b[0m\u001b[0;34m]\u001b[0m \u001b[0;32min\u001b[0m \u001b[0m_REPEATCODES\u001b[0m\u001b[0;34m:\u001b[0m\u001b[0;34m\u001b[0m\u001b[0;34m\u001b[0m\u001b[0m\n\u001b[1;32m    647\u001b[0m                 raise source.error(\"multiple repeat\",\n\u001b[0;32m--> 648\u001b[0;31m                                    source.tell() - here + len(this))\n\u001b[0m\u001b[1;32m    649\u001b[0m             \u001b[0;32mif\u001b[0m \u001b[0mitem\u001b[0m\u001b[0;34m[\u001b[0m\u001b[0;36m0\u001b[0m\u001b[0;34m]\u001b[0m\u001b[0;34m[\u001b[0m\u001b[0;36m0\u001b[0m\u001b[0;34m]\u001b[0m \u001b[0;32mis\u001b[0m \u001b[0mSUBPATTERN\u001b[0m\u001b[0;34m:\u001b[0m\u001b[0;34m\u001b[0m\u001b[0;34m\u001b[0m\u001b[0m\n\u001b[1;32m    650\u001b[0m                 \u001b[0mgroup\u001b[0m\u001b[0;34m,\u001b[0m \u001b[0madd_flags\u001b[0m\u001b[0;34m,\u001b[0m \u001b[0mdel_flags\u001b[0m\u001b[0;34m,\u001b[0m \u001b[0mp\u001b[0m \u001b[0;34m=\u001b[0m \u001b[0mitem\u001b[0m\u001b[0;34m[\u001b[0m\u001b[0;36m0\u001b[0m\u001b[0;34m]\u001b[0m\u001b[0;34m[\u001b[0m\u001b[0;36m1\u001b[0m\u001b[0;34m]\u001b[0m\u001b[0;34m\u001b[0m\u001b[0;34m\u001b[0m\u001b[0m\n",
      "\u001b[0;31merror\u001b[0m: multiple repeat at position 6"
     ]
    }
   ],
   "source": [
    "re.search('岗位职责:?*+',s).group()"
   ]
  },
  {
   "cell_type": "code",
   "execution_count": 114,
   "metadata": {
    "scrolled": false
   },
   "outputs": [
    {
     "data": {
      "text/plain": [
       "0      https://www.lagou.com/jobs/5373035.html?show=4...\n",
       "10     https://www.lagou.com/jobs/5373035.html?show=4...\n",
       "20     https://www.lagou.com/jobs/5373035.html?show=4...\n",
       "30     https://www.lagou.com/jobs/5373035.html?show=4...\n",
       "40     https://www.lagou.com/jobs/5373035.html?show=4...\n",
       "50     https://www.lagou.com/jobs/5373035.html?show=4...\n",
       "60     https://www.lagou.com/jobs/5373035.html?show=4...\n",
       "70     https://www.lagou.com/jobs/5373035.html?show=4...\n",
       "80     https://www.lagou.com/jobs/5373035.html?show=4...\n",
       "90     https://www.lagou.com/jobs/5373035.html?show=4...\n",
       "100    https://www.lagou.com/jobs/5373035.html?show=4...\n",
       "110    https://www.lagou.com/jobs/5373035.html?show=4...\n",
       "120    https://www.lagou.com/jobs/5373035.html?show=4...\n",
       "130    https://www.lagou.com/jobs/5373035.html?show=4...\n",
       "140    https://www.lagou.com/jobs/5373035.html?show=4...\n",
       "150    https://www.lagou.com/jobs/5373035.html?show=4...\n",
       "160    https://www.lagou.com/jobs/5373035.html?show=4...\n",
       "170    https://www.lagou.com/jobs/5373035.html?show=4...\n",
       "180    https://www.lagou.com/jobs/5373035.html?show=4...\n",
       "190    https://www.lagou.com/jobs/5373035.html?show=4...\n",
       "Name: url, dtype: object"
      ]
     },
     "execution_count": 114,
     "metadata": {},
     "output_type": "execute_result"
    }
   ],
   "source": [
    " data[ data['detail1'].map(lambda x: x.split('岗位要求')[0] == '')]['url']\n"
   ]
  },
  {
   "cell_type": "code",
   "execution_count": null,
   "metadata": {},
   "outputs": [],
   "source": []
  }
 ],
 "metadata": {
  "kernelspec": {
   "display_name": "Python 3",
   "language": "python",
   "name": "python3"
  },
  "language_info": {
   "codemirror_mode": {
    "name": "ipython",
    "version": 3
   },
   "file_extension": ".py",
   "mimetype": "text/x-python",
   "name": "python",
   "nbconvert_exporter": "python",
   "pygments_lexer": "ipython3",
   "version": "3.7.5"
  }
 },
 "nbformat": 4,
 "nbformat_minor": 2
}
